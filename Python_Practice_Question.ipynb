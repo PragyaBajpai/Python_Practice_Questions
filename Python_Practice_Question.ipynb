{
 "cells": [
  {
   "cell_type": "markdown",
   "metadata": {},
   "source": [
    "Multiplication of elemnts in a list:"
   ]
  },
  {
   "cell_type": "code",
   "execution_count": 1,
   "metadata": {},
   "outputs": [
    {
     "name": "stdout",
     "output_type": "stream",
     "text": [
      "multiplication of all elements :  168\n"
     ]
    }
   ],
   "source": [
    "no = [1,2,3,4,7]\n",
    "res = 1\n",
    "for item in no:\n",
    "  res = res * item\n",
    "print(\"multiplication of all elements : \",res)"
   ]
  },
  {
   "cell_type": "markdown",
   "metadata": {},
   "source": [
    "Removing Duplicates from List:"
   ]
  },
  {
   "cell_type": "code",
   "execution_count": 2,
   "metadata": {},
   "outputs": [
    {
     "name": "stdout",
     "output_type": "stream",
     "text": [
      "[2, 4, 3, 6, 7, 5, 43]\n"
     ]
    }
   ],
   "source": [
    "n = [2,4,2,3,6,7,5,43,]\n",
    "temp = []\n",
    "for x in n:\n",
    "    if x not in temp:\n",
    "        temp.append(x)\n",
    "    n = temp\n",
    "print(temp)"
   ]
  },
  {
   "cell_type": "markdown",
   "metadata": {},
   "source": [
    "Increment in the existing list using for loop:"
   ]
  },
  {
   "cell_type": "code",
   "execution_count": 3,
   "metadata": {},
   "outputs": [
    {
     "name": "stdout",
     "output_type": "stream",
     "text": [
      "[3, 4, 5]\n"
     ]
    }
   ],
   "source": [
    "old_list = [1, 2, 3]\n",
    "c = [(x+2) for x in old_list]\n",
    "print(c)"
   ]
  },
  {
   "cell_type": "markdown",
   "metadata": {},
   "source": [
    "Dictionary - Print key value pair of dictionary:"
   ]
  },
  {
   "cell_type": "code",
   "execution_count": 4,
   "metadata": {},
   "outputs": [
    {
     "name": "stdout",
     "output_type": "stream",
     "text": [
      "('a1', 'fresh')\n",
      "('a2', 'hii')\n",
      "('a3', 'kop')\n"
     ]
    }
   ],
   "source": [
    "dict1 = {'a1':'fresh','a2':'hii','a3':'kop'}\n",
    "for key in dict1.items():\n",
    "    print (key)"
   ]
  },
  {
   "cell_type": "markdown",
   "metadata": {},
   "source": [
    "Define a dictionary in which keys are numbered from 1-5,each value is the square of the corresponding keys:"
   ]
  },
  {
   "cell_type": "code",
   "execution_count": 5,
   "metadata": {},
   "outputs": [
    {
     "name": "stdout",
     "output_type": "stream",
     "text": [
      "{1: 1, 2: 4, 3: 9, 4: 16, 5: 25}\n"
     ]
    }
   ],
   "source": [
    "s = dict()\n",
    "for i in range(1,6):\n",
    "    s[i] = i * i\n",
    "print(s)"
   ]
  },
  {
   "cell_type": "markdown",
   "metadata": {},
   "source": [
    "Tuple:"
   ]
  },
  {
   "cell_type": "code",
   "execution_count": 7,
   "metadata": {},
   "outputs": [
    {
     "name": "stdout",
     "output_type": "stream",
     "text": [
      "0\n",
      "3\n",
      "4\n",
      "4\n",
      "5\n"
     ]
    }
   ],
   "source": [
    "b = (0,3,4,4,5)\n",
    "for i in b:\n",
    "    print(i)"
   ]
  },
  {
   "cell_type": "markdown",
   "metadata": {},
   "source": [
    "SETS:"
   ]
  },
  {
   "cell_type": "code",
   "execution_count": 9,
   "metadata": {},
   "outputs": [
    {
     "data": {
      "text/plain": [
       "{1, 2, 3, 4, 5, 6, 8, 10}"
      ]
     },
     "execution_count": 9,
     "metadata": {},
     "output_type": "execute_result"
    }
   ],
   "source": [
    "setc = {1,2,3,4,5,}\n",
    "setd = {2,4,6,8,10}\n",
    "setc.union(setd)"
   ]
  },
  {
   "cell_type": "code",
   "execution_count": 10,
   "metadata": {},
   "outputs": [
    {
     "data": {
      "text/plain": [
       "{2, 4}"
      ]
     },
     "execution_count": 10,
     "metadata": {},
     "output_type": "execute_result"
    }
   ],
   "source": [
    "setc.intersection(setd)"
   ]
  },
  {
   "cell_type": "code",
   "execution_count": 11,
   "metadata": {},
   "outputs": [
    {
     "data": {
      "text/plain": [
       "{1, 3, 5}"
      ]
     },
     "execution_count": 11,
     "metadata": {},
     "output_type": "execute_result"
    }
   ],
   "source": [
    "setc.difference(setd)"
   ]
  },
  {
   "cell_type": "code",
   "execution_count": 12,
   "metadata": {},
   "outputs": [
    {
     "data": {
      "text/plain": [
       "{1, 3, 5, 6, 8, 10}"
      ]
     },
     "execution_count": 12,
     "metadata": {},
     "output_type": "execute_result"
    }
   ],
   "source": [
    "setc.symmetric_difference(setd)"
   ]
  },
  {
   "cell_type": "markdown",
   "metadata": {},
   "source": [
    "Conditional Statements:"
   ]
  },
  {
   "cell_type": "code",
   "execution_count": 13,
   "metadata": {},
   "outputs": [
    {
     "name": "stdout",
     "output_type": "stream",
     "text": [
      "b is greater =  9\n"
     ]
    }
   ],
   "source": [
    "a = 5\n",
    "b = 9\n",
    "if(a > b):\n",
    "    print(\"a is greater = \",a)\n",
    "else:\n",
    "    print(\"b is greater = \",b)"
   ]
  },
  {
   "cell_type": "code",
   "execution_count": 19,
   "metadata": {},
   "outputs": [
    {
     "name": "stdout",
     "output_type": "stream",
     "text": [
      "proceed \n"
     ]
    }
   ],
   "source": [
    "Flag = True\n",
    "if(Flag):\n",
    "    print(\"proceed \")"
   ]
  },
  {
   "cell_type": "markdown",
   "metadata": {},
   "source": [
    "Program to check whether the input is vowels or constant:"
   ]
  },
  {
   "cell_type": "code",
   "execution_count": 2,
   "metadata": {
    "scrolled": true
   },
   "outputs": [
    {
     "name": "stdout",
     "output_type": "stream",
     "text": [
      "enterf\n",
      "input is constant\n"
     ]
    }
   ],
   "source": [
    "ch = input(\"enter\")\n",
    "if(ch=='A' or ch=='a' or ch=='E' or ch =='e' or ch=='I'\n",
    " or ch=='i' or ch=='O' or ch=='o' or ch=='U' or ch=='u'):\n",
    "    print(\"input is vowel \")\n",
    "else:\n",
    "    print(\"input is constant\")"
   ]
  },
  {
   "cell_type": "markdown",
   "metadata": {},
   "source": [
    "Copying elements from dictionary 1 to dictionary 2:"
   ]
  },
  {
   "cell_type": "code",
   "execution_count": 5,
   "metadata": {},
   "outputs": [
    {
     "name": "stdout",
     "output_type": "stream",
     "text": [
      "{'a1': 'fresh', 'a2': 'hii', 'a3': 'kop'}\n",
      "{}\n"
     ]
    }
   ],
   "source": [
    "dict1 = {'a1':'fresh','a2':'hii','a3':'kop'}\n",
    "dict2 = {}\n",
    "for k,v in dict1.items ():\n",
    "    s[k] = v\n",
    "dict1 = {}\n",
    "print(s)\n",
    "print(dict1)"
   ]
  },
  {
   "cell_type": "markdown",
   "metadata": {},
   "source": [
    "Program to find factorial of a integer enterd by user:"
   ]
  },
  {
   "cell_type": "code",
   "execution_count": 6,
   "metadata": {},
   "outputs": [
    {
     "name": "stdout",
     "output_type": "stream",
     "text": [
      "enter a number: 7\n",
      "factorial of a  7 is 5040\n"
     ]
    }
   ],
   "source": [
    "num = int(input(\"enter a number: \"))\n",
    "fac = 1\n",
    "for i in range(1,num+1):\n",
    "    fac = fac * i\n",
    "print(\"factorial of a \",num, \"is\", fac)"
   ]
  },
  {
   "cell_type": "markdown",
   "metadata": {},
   "source": [
    "Write a program that repititively accepts non-zero integers from the keyboard until the user types a zero.then display a sum of integers entered by user(excluding zero):"
   ]
  },
  {
   "cell_type": "code",
   "execution_count": 13,
   "metadata": {},
   "outputs": [
    {
     "name": "stdout",
     "output_type": "stream",
     "text": [
      "66\n",
      "7\n",
      "8\n",
      "0\n",
      "total sum 81\n"
     ]
    }
   ],
   "source": [
    "total_a = 0\n",
    "a = int(input())\n",
    "while a != 0:\n",
    "    total_a += a\n",
    "    if (a == 0):\n",
    "        break\n",
    "    a = int(input())\n",
    "else:\n",
    "    print('total sum', total_a, )"
   ]
  },
  {
   "cell_type": "markdown",
   "metadata": {},
   "source": [
    "Functions:"
   ]
  },
  {
   "cell_type": "code",
   "execution_count": 12,
   "metadata": {},
   "outputs": [
    {
     "name": "stdout",
     "output_type": "stream",
     "text": [
      "hello\n"
     ]
    }
   ],
   "source": [
    "def greet():\n",
    "    print(\"hello\")\n",
    "greet()"
   ]
  },
  {
   "cell_type": "code",
   "execution_count": 14,
   "metadata": {},
   "outputs": [
    {
     "name": "stdout",
     "output_type": "stream",
     "text": [
      "13\n",
      "None\n"
     ]
    }
   ],
   "source": [
    "def add(a,b):\n",
    "    print(a + b)\n",
    "d = add(6,7)\n",
    "print(d)"
   ]
  },
  {
   "cell_type": "code",
   "execution_count": 8,
   "metadata": {},
   "outputs": [
    {
     "name": "stdout",
     "output_type": "stream",
     "text": [
      "13\n"
     ]
    }
   ],
   "source": [
    "def add(a,b):\n",
    "    return(a + b)\n",
    "c = add(6,7)\n",
    "print(c)"
   ]
  },
  {
   "cell_type": "code",
   "execution_count": 9,
   "metadata": {},
   "outputs": [],
   "source": [
    "def test():\n",
    "    return\n",
    "x = test()"
   ]
  },
  {
   "cell_type": "code",
   "execution_count": 10,
   "metadata": {},
   "outputs": [
    {
     "data": {
      "text/plain": [
       "NoneType"
      ]
     },
     "execution_count": 10,
     "metadata": {},
     "output_type": "execute_result"
    }
   ],
   "source": [
    "type(x)"
   ]
  },
  {
   "cell_type": "code",
   "execution_count": 11,
   "metadata": {},
   "outputs": [
    {
     "name": "stdout",
     "output_type": "stream",
     "text": [
      "-12\n"
     ]
    }
   ],
   "source": [
    "def ret (a,b):\n",
    "    return (a+b)\n",
    "c = ret(5,7) * -1\n",
    "print(c)"
   ]
  },
  {
   "cell_type": "code",
   "execution_count": 12,
   "metadata": {},
   "outputs": [
    {
     "name": "stdout",
     "output_type": "stream",
     "text": [
      "6 2 8\n"
     ]
    }
   ],
   "source": [
    "def add(a,b):\n",
    "    return(a+b,a-b,a*b)\n",
    "l,m,n = add(4,2)\n",
    "print(l,m,n)"
   ]
  },
  {
   "cell_type": "code",
   "execution_count": 13,
   "metadata": {},
   "outputs": [
    {
     "name": "stdout",
     "output_type": "stream",
     "text": [
      "1\n",
      "(3, 4)\n",
      "12 14\n",
      "{'f': 56, 'g': 87}\n"
     ]
    }
   ],
   "source": [
    "def sam(a,b,c,d,e,f,g):\n",
    "    print (a)\n",
    "    print (args)\n",
    "    print (d , e)\n",
    "    print(kwargs)\n",
    "args = (3,4)\n",
    "kwargs = {'f':56,'g':87}\n",
    "sam(1, *args, d = 12,e = 14, **kwargs)"
   ]
  },
  {
   "cell_type": "code",
   "execution_count": 14,
   "metadata": {},
   "outputs": [
    {
     "name": "stdout",
     "output_type": "stream",
     "text": [
      "{'a': 1, 'b': 2, 'c': 3}\n",
      "<class 'dict'>\n",
      "dict_items([('a', 1), ('b', 2), ('c', 3)])\n"
     ]
    }
   ],
   "source": [
    "def addd(**args):\n",
    "    print(args)\n",
    "    print(type(args))\n",
    "    print(args.items())\n",
    "addd(a = 1,b = 2,c = 3)"
   ]
  },
  {
   "cell_type": "code",
   "execution_count": 15,
   "metadata": {},
   "outputs": [
    {
     "data": {
      "text/plain": [
       "[True, True, True, False, False, False, True, True]"
      ]
     },
     "execution_count": 15,
     "metadata": {},
     "output_type": "execute_result"
    }
   ],
   "source": [
    "l = [1,2,3,-5,-7,-5,4,3]\n",
    "l1 = [1,4,7,-8,6,-5,9]\n",
    "list (map (lambda x:x>0,l))"
   ]
  },
  {
   "cell_type": "code",
   "execution_count": 16,
   "metadata": {},
   "outputs": [
    {
     "data": {
      "text/plain": [
       "[2, 6, 10, -13, -1, -10, 13]"
      ]
     },
     "execution_count": 16,
     "metadata": {},
     "output_type": "execute_result"
    }
   ],
   "source": [
    "list (map (lambda x,y : x+y , l ,l1))"
   ]
  },
  {
   "cell_type": "code",
   "execution_count": 17,
   "metadata": {},
   "outputs": [
    {
     "data": {
      "text/plain": [
       "14"
      ]
     },
     "execution_count": 17,
     "metadata": {},
     "output_type": "execute_result"
    }
   ],
   "source": [
    "from functools import reduce\n",
    "l1 = [1,4,7,-8,6,-5,9]\n",
    "reduce(lambda x,y : x+y ,l1) "
   ]
  },
  {
   "cell_type": "code",
   "execution_count": 18,
   "metadata": {},
   "outputs": [
    {
     "data": {
      "text/plain": [
       "[True, True, True, False, False, False, True, True]"
      ]
     },
     "execution_count": 18,
     "metadata": {},
     "output_type": "execute_result"
    }
   ],
   "source": [
    "list(map (lambda x: x > 0, l))"
   ]
  },
  {
   "cell_type": "markdown",
   "metadata": {},
   "source": [
    "Program that accepts in the range of 1-100 and then checks whether the number is prime or not.and should return True if number is prime."
   ]
  },
  {
   "cell_type": "code",
   "execution_count": 15,
   "metadata": {},
   "outputs": [
    {
     "data": {
      "text/plain": [
       "True"
      ]
     },
     "execution_count": 15,
     "metadata": {},
     "output_type": "execute_result"
    }
   ],
   "source": [
    "def isPrime(n):\n",
    "        for x in range(2,n):\n",
    "            if(n % x==0):\n",
    "                return False\n",
    "        return True \n",
    "isPrime(7)"
   ]
  },
  {
   "cell_type": "code",
   "execution_count": 21,
   "metadata": {},
   "outputs": [
    {
     "name": "stdout",
     "output_type": "stream",
     "text": [
      "9\n",
      "this is not prime\n"
     ]
    }
   ],
   "source": [
    "while(1):\n",
    "    num = int(input())\n",
    "    if (num >= 0) and ( num <= 100):\n",
    "        if isPrime(num):\n",
    "            print(\"this is prime\")\n",
    "        else:\n",
    "            print(\"this is not prime\")\n",
    "        break\n",
    "    else:\n",
    "        print(\"enter within range\")\n",
    "        continue"
   ]
  },
  {
   "cell_type": "markdown",
   "metadata": {},
   "source": [
    "OOPS Concepts:"
   ]
  },
  {
   "cell_type": "code",
   "execution_count": 34,
   "metadata": {},
   "outputs": [],
   "source": [
    "class Car:\n",
    "    \"\"\" documentation \"\"\"\n",
    "    no_of_wheels = 4\n",
    "    no_of_objects = 0\n",
    "    \n",
    "    def __init__(self,model,brand,year):\n",
    "        \n",
    "        self.model = model\n",
    "        self.brand = brand\n",
    "        self.year = year\n",
    "        car.no_of_objects += 1\n",
    "        \n",
    "    def start_engine(self):\n",
    "        print(\"hii\")\n",
    "        \n",
    "    def details(self):\n",
    "        print(\"model: \", self.model)\n",
    "        print(\"brand: \", self.brand)\n",
    "        print(\"year: \", self.year)\n",
    "        \n",
    "    def emergency(self, airbag):\n",
    "        if airbag:\n",
    "            print(\"deploy airbags\")\n",
    "        "
   ]
  },
  {
   "cell_type": "code",
   "execution_count": 35,
   "metadata": {},
   "outputs": [
    {
     "data": {
      "text/plain": [
       "'budb'"
      ]
     },
     "execution_count": 35,
     "metadata": {},
     "output_type": "execute_result"
    }
   ],
   "source": [
    "crv = Car('001','budb',3959)\n",
    "crv.brand"
   ]
  },
  {
   "cell_type": "code",
   "execution_count": 36,
   "metadata": {},
   "outputs": [
    {
     "data": {
      "text/plain": [
       "0"
      ]
     },
     "execution_count": 36,
     "metadata": {},
     "output_type": "execute_result"
    }
   ],
   "source": [
    "Car.no_of_objects"
   ]
  },
  {
   "cell_type": "code",
   "execution_count": 25,
   "metadata": {},
   "outputs": [
    {
     "name": "stdout",
     "output_type": "stream",
     "text": [
      "hii\n"
     ]
    }
   ],
   "source": [
    "crv.start_engine()"
   ]
  },
  {
   "cell_type": "code",
   "execution_count": 37,
   "metadata": {},
   "outputs": [
    {
     "name": "stdout",
     "output_type": "stream",
     "text": [
      "deploy airbags\n"
     ]
    }
   ],
   "source": [
    "crv.emergency(airbag = True)"
   ]
  },
  {
   "cell_type": "code",
   "execution_count": 38,
   "metadata": {},
   "outputs": [
    {
     "data": {
      "text/plain": [
       "['__class__',\n",
       " '__delattr__',\n",
       " '__dict__',\n",
       " '__dir__',\n",
       " '__doc__',\n",
       " '__eq__',\n",
       " '__format__',\n",
       " '__ge__',\n",
       " '__getattribute__',\n",
       " '__gt__',\n",
       " '__hash__',\n",
       " '__init__',\n",
       " '__init_subclass__',\n",
       " '__le__',\n",
       " '__lt__',\n",
       " '__module__',\n",
       " '__ne__',\n",
       " '__new__',\n",
       " '__reduce__',\n",
       " '__reduce_ex__',\n",
       " '__repr__',\n",
       " '__setattr__',\n",
       " '__sizeof__',\n",
       " '__str__',\n",
       " '__subclasshook__',\n",
       " '__weakref__',\n",
       " 'details',\n",
       " 'emergency',\n",
       " 'no_of_objects',\n",
       " 'no_of_wheels',\n",
       " 'start_engine']"
      ]
     },
     "execution_count": 38,
     "metadata": {},
     "output_type": "execute_result"
    }
   ],
   "source": [
    "dir(Car)"
   ]
  },
  {
   "cell_type": "code",
   "execution_count": 39,
   "metadata": {},
   "outputs": [
    {
     "data": {
      "text/plain": [
       "' documentation '"
      ]
     },
     "execution_count": 39,
     "metadata": {},
     "output_type": "execute_result"
    }
   ],
   "source": [
    "Car.__doc__"
   ]
  },
  {
   "cell_type": "code",
   "execution_count": 40,
   "metadata": {},
   "outputs": [
    {
     "data": {
      "text/plain": [
       "mappingproxy({'__module__': '__main__',\n",
       "              '__doc__': ' documentation ',\n",
       "              'no_of_wheels': 4,\n",
       "              'no_of_objects': 0,\n",
       "              '__init__': <function __main__.Car.__init__(self, model, brand, year)>,\n",
       "              'start_engine': <function __main__.Car.start_engine(self)>,\n",
       "              'details': <function __main__.Car.details(self)>,\n",
       "              'emergency': <function __main__.Car.emergency(self, airbag)>,\n",
       "              '__dict__': <attribute '__dict__' of 'Car' objects>,\n",
       "              '__weakref__': <attribute '__weakref__' of 'Car' objects>})"
      ]
     },
     "execution_count": 40,
     "metadata": {},
     "output_type": "execute_result"
    }
   ],
   "source": [
    "Car.__dict__"
   ]
  },
  {
   "cell_type": "code",
   "execution_count": 41,
   "metadata": {},
   "outputs": [
    {
     "data": {
      "text/plain": [
       "{'model': '001', 'brand': 'budb', 'year': 3959}"
      ]
     },
     "execution_count": 41,
     "metadata": {},
     "output_type": "execute_result"
    }
   ],
   "source": [
    "crv.__dict__"
   ]
  },
  {
   "cell_type": "code",
   "execution_count": 42,
   "metadata": {},
   "outputs": [],
   "source": [
    "class School:\n",
    "\n",
    "    def __init__(self, school, location):\n",
    "        \n",
    "        self.school = school\n",
    "        self.location = location    \n",
    "        \n",
    "    def details(self):\n",
    "        print(\"school :\", self.school)\n",
    "        print(\"location: \", self.location)\n",
    "\n",
    "        \n",
    "class Teacher(School):\n",
    "\n",
    "    def __init__(self,tname, subject, school, location):\n",
    "        \n",
    "        self.tname = tname\n",
    "        self.subject = subject\n",
    "        #self.school = school\n",
    "        #self.location = location  \n",
    "        super().__init__(school,location)\n",
    "        \n",
    "    def details(self):\n",
    "        print(\"Teacher name :\", self.tname)\n",
    "        print(\"Subject: \", self.subject)\n",
    "        super().details()"
   ]
  },
  {
   "cell_type": "code",
   "execution_count": 43,
   "metadata": {},
   "outputs": [
    {
     "data": {
      "text/plain": [
       "<__main__.School at 0x1e12c078048>"
      ]
     },
     "execution_count": 43,
     "metadata": {},
     "output_type": "execute_result"
    }
   ],
   "source": [
    "ABC = School('ABC School','kanpur')\n",
    "ABC"
   ]
  },
  {
   "cell_type": "code",
   "execution_count": 44,
   "metadata": {},
   "outputs": [
    {
     "name": "stdout",
     "output_type": "stream",
     "text": [
      "school : ABC School\n",
      "location:  kanpur\n"
     ]
    }
   ],
   "source": [
    "ABC.details()"
   ]
  },
  {
   "cell_type": "code",
   "execution_count": 47,
   "metadata": {},
   "outputs": [],
   "source": [
    "Meli = Teacher('meli','maths','ABC School','kanpur')"
   ]
  },
  {
   "cell_type": "code",
   "execution_count": 48,
   "metadata": {},
   "outputs": [
    {
     "name": "stdout",
     "output_type": "stream",
     "text": [
      "Teacher name : meli\n",
      "Subject:  maths\n",
      "school : ABC School\n",
      "location:  kanpur\n"
     ]
    }
   ],
   "source": [
    "Meli.details()"
   ]
  },
  {
   "cell_type": "code",
   "execution_count": 1,
   "metadata": {},
   "outputs": [],
   "source": [
    "class Library:\n",
    "    \n",
    "    books = ['A','B','C','D','E','F']\n",
    "\n",
    "    def __init__(self,stud_id,book_title):\n",
    "        self.stud_id = stud_id\n",
    "        self.book_title = book_title\n",
    "        \n",
    "    def transaction(self):\n",
    "        \n",
    "        return (\"book titled'{1}' issued to '{0}' \".format(self.stud_id , self.book_title))\n",
    "  \n",
    "    def update_list(self):\n",
    "        Library.books.remove(self.book_title)\n",
    "        return (\"List of book available in library {}\".format(Library.books))\n",
    "       \n",
    "    @classmethod\n",
    "    def add_to_list(cls,new_collection):\n",
    "        \n",
    "        cls.books += new_collection\n",
    "        print(\"{0} added to collections\".format(new_collection))\n",
    "        return (cls.books)\n",
    "    @staticmethod\n",
    "    def issued_by(librarian_name):\n",
    "        print(\"books issued by {0}\".format(librarian_name))"
   ]
  },
  {
   "cell_type": "code",
   "execution_count": 2,
   "metadata": {},
   "outputs": [
    {
     "name": "stdout",
     "output_type": "stream",
     "text": [
      "['J', 'K', 'L', 'M'] added to collections\n"
     ]
    },
    {
     "data": {
      "text/plain": [
       "['A', 'B', 'C', 'D', 'E', 'F', 'J', 'K', 'L', 'M']"
      ]
     },
     "execution_count": 2,
     "metadata": {},
     "output_type": "execute_result"
    }
   ],
   "source": [
    "Library.add_to_list(['J','K','L','M'])"
   ]
  },
  {
   "cell_type": "code",
   "execution_count": 3,
   "metadata": {},
   "outputs": [],
   "source": [
    "ERIC = Library('1234','B')"
   ]
  },
  {
   "cell_type": "code",
   "execution_count": 4,
   "metadata": {},
   "outputs": [
    {
     "data": {
      "text/plain": [
       "\"book titled'B' issued to '1234' \""
      ]
     },
     "execution_count": 4,
     "metadata": {},
     "output_type": "execute_result"
    }
   ],
   "source": [
    "ERIC.transaction()"
   ]
  },
  {
   "cell_type": "code",
   "execution_count": 5,
   "metadata": {},
   "outputs": [
    {
     "data": {
      "text/plain": [
       "\"List of book available in library ['A', 'C', 'D', 'E', 'F', 'J', 'K', 'L', 'M']\""
      ]
     },
     "execution_count": 5,
     "metadata": {},
     "output_type": "execute_result"
    }
   ],
   "source": [
    "ERIC.update_list()"
   ]
  },
  {
   "cell_type": "code",
   "execution_count": 6,
   "metadata": {},
   "outputs": [
    {
     "name": "stdout",
     "output_type": "stream",
     "text": [
      "books issued by nancy\n"
     ]
    }
   ],
   "source": [
    "Library.issued_by('nancy')"
   ]
  },
  {
   "cell_type": "code",
   "execution_count": 31,
   "metadata": {},
   "outputs": [],
   "source": [
    "class Cart:\n",
    "\n",
    "    def __init__(self, items):\n",
    "        \n",
    "        self.items = items\n",
    "        \n",
    "    def __str__(self):\n",
    "        return '{0}'.format(self.items)\n",
    "    def __repr__(self):\n",
    "        return 'Cart({0}'.format(self.items)"
   ]
  },
  {
   "cell_type": "code",
   "execution_count": 32,
   "metadata": {},
   "outputs": [],
   "source": [
    "Cart1 = Cart(['vgh','ch','vhv'])"
   ]
  },
  {
   "cell_type": "code",
   "execution_count": 33,
   "metadata": {},
   "outputs": [],
   "source": [
    "Cart2 = Cart(['bjd','vu'])"
   ]
  },
  {
   "cell_type": "code",
   "execution_count": 34,
   "metadata": {},
   "outputs": [
    {
     "data": {
      "text/plain": [
       "'1'"
      ]
     },
     "execution_count": 34,
     "metadata": {},
     "output_type": "execute_result"
    }
   ],
   "source": [
    "str(1)"
   ]
  },
  {
   "cell_type": "code",
   "execution_count": 35,
   "metadata": {},
   "outputs": [
    {
     "data": {
      "text/plain": [
       "'3'"
      ]
     },
     "execution_count": 35,
     "metadata": {},
     "output_type": "execute_result"
    }
   ],
   "source": [
    "repr(3)"
   ]
  },
  {
   "cell_type": "code",
   "execution_count": 36,
   "metadata": {},
   "outputs": [
    {
     "data": {
      "text/plain": [
       "3"
      ]
     },
     "execution_count": 36,
     "metadata": {},
     "output_type": "execute_result"
    }
   ],
   "source": [
    "3"
   ]
  },
  {
   "cell_type": "code",
   "execution_count": 37,
   "metadata": {},
   "outputs": [
    {
     "data": {
      "text/plain": [
       "'hello'"
      ]
     },
     "execution_count": 37,
     "metadata": {},
     "output_type": "execute_result"
    }
   ],
   "source": [
    "str('hello')"
   ]
  },
  {
   "cell_type": "code",
   "execution_count": 38,
   "metadata": {},
   "outputs": [
    {
     "data": {
      "text/plain": [
       "\"'hello'\""
      ]
     },
     "execution_count": 38,
     "metadata": {},
     "output_type": "execute_result"
    }
   ],
   "source": [
    "repr('hello')"
   ]
  },
  {
   "cell_type": "code",
   "execution_count": 39,
   "metadata": {},
   "outputs": [
    {
     "data": {
      "text/plain": [
       "\"['vgh', 'ch', 'vhv']\""
      ]
     },
     "execution_count": 39,
     "metadata": {},
     "output_type": "execute_result"
    }
   ],
   "source": [
    "str(Cart1)"
   ]
  },
  {
   "cell_type": "code",
   "execution_count": 40,
   "metadata": {},
   "outputs": [
    {
     "data": {
      "text/plain": [
       "\"Cart(['bjd', 'vu']\""
      ]
     },
     "execution_count": 40,
     "metadata": {},
     "output_type": "execute_result"
    }
   ],
   "source": [
    "repr(Cart2)"
   ]
  },
  {
   "cell_type": "markdown",
   "metadata": {},
   "source": [
    "Errors & Exceptions:"
   ]
  },
  {
   "cell_type": "code",
   "execution_count": 1,
   "metadata": {},
   "outputs": [
    {
     "name": "stdout",
     "output_type": "stream",
     "text": [
      "check input value\n"
     ]
    }
   ],
   "source": [
    "a = 4\n",
    "b = \"nk\"\n",
    "try:\n",
    "    res = a + b\n",
    "    print(res)\n",
    "except (TypeError,ZeroDivisionError):\n",
    "    print(\"check input value\")"
   ]
  },
  {
   "cell_type": "code",
   "execution_count": 5,
   "metadata": {},
   "outputs": [
    {
     "name": "stdout",
     "output_type": "stream",
     "text": [
      "check data ṭype value\n",
      "This gets executed always\n"
     ]
    }
   ],
   "source": [
    "a = 4\n",
    "b = \"nk\"\n",
    "try:\n",
    "    res = a + b\n",
    "    print(res)\n",
    "except (ZeroDivisionError):\n",
    "    print(\"Zero Division not allowed \")\n",
    "except (TypeError):\n",
    "    print(\"check data ṭype value\")\n",
    "except:\n",
    "    print(\"check all exceptions\")\n",
    "finally:\n",
    "    print(\"This gets executed always\")"
   ]
  },
  {
   "cell_type": "markdown",
   "metadata": {},
   "source": [
    "Datetime Module:"
   ]
  },
  {
   "cell_type": "markdown",
   "metadata": {},
   "source": [
    "Print date for 10 days from today:"
   ]
  },
  {
   "cell_type": "code",
   "execution_count": 7,
   "metadata": {},
   "outputs": [
    {
     "name": "stdout",
     "output_type": "stream",
     "text": [
      "2020-05-25\n",
      "2020-05-26\n",
      "2020-05-27\n",
      "2020-05-28\n",
      "2020-05-29\n",
      "2020-05-30\n",
      "2020-05-31\n",
      "2020-06-01\n",
      "2020-06-02\n",
      "2020-06-03\n"
     ]
    }
   ],
   "source": [
    "import datetime\n",
    "date = datetime.date.today()\n",
    "print(date)\n",
    "for i in range (1,10):\n",
    "    date += datetime.timedelta(days=1)\n",
    "    print(date)"
   ]
  },
  {
   "cell_type": "code",
   "execution_count": 8,
   "metadata": {},
   "outputs": [
    {
     "name": "stdout",
     "output_type": "stream",
     "text": [
      "1607711400.0\n"
     ]
    }
   ],
   "source": [
    "date = \"12/12/2020\"\n",
    "date = datetime.datetime.strptime(date,\"%m/%d/%Y\")\n",
    "time = datetime.datetime.timestamp(date)\n",
    "print(time)"
   ]
  },
  {
   "cell_type": "code",
   "execution_count": 12,
   "metadata": {},
   "outputs": [
    {
     "name": "stdout",
     "output_type": "stream",
     "text": [
      "2011-01-01 00:00:00\n"
     ]
    }
   ],
   "source": [
    "from datetime import datetime\n",
    "d = datetime.strptime('Jan 1 2011', '%b %d %Y')\n",
    "print(d)"
   ]
  },
  {
   "cell_type": "markdown",
   "metadata": {},
   "source": [
    "Print Present,Yesterday & tommorow's date:"
   ]
  },
  {
   "cell_type": "code",
   "execution_count": 13,
   "metadata": {},
   "outputs": [
    {
     "name": "stdout",
     "output_type": "stream",
     "text": [
      "2020-05-25\n",
      "2020-05-24\n",
      "2020-05-26\n"
     ]
    }
   ],
   "source": [
    "import datetime\n",
    "date = datetime.date.today()\n",
    "print(date)\n",
    "for i in range (1,2):\n",
    "    date -= datetime.timedelta(days=1)\n",
    "    print(date)\n",
    "    date = datetime.date.today()\n",
    "    date += datetime.timedelta(days=1)\n",
    "    print(date)"
   ]
  },
  {
   "cell_type": "markdown",
   "metadata": {},
   "source": [
    "Print square of each number from a list:"
   ]
  },
  {
   "cell_type": "code",
   "execution_count": 16,
   "metadata": {},
   "outputs": [
    {
     "name": "stdout",
     "output_type": "stream",
     "text": [
      "4\n",
      "49\n",
      "25\n",
      "49\n",
      "81\n"
     ]
    }
   ],
   "source": [
    "list = [2,7,5,7,9]\n",
    "for x in list:\n",
    "    print(x**2)"
   ]
  },
  {
   "cell_type": "code",
   "execution_count": 17,
   "metadata": {},
   "outputs": [],
   "source": [
    "dict1 = {'a':4,'h':6,'j':8}"
   ]
  },
  {
   "cell_type": "code",
   "execution_count": 19,
   "metadata": {},
   "outputs": [
    {
     "name": "stdout",
     "output_type": "stream",
     "text": [
      "a\n",
      "h\n",
      "j\n"
     ]
    }
   ],
   "source": [
    "for x in dict1:\n",
    "    print(x)"
   ]
  },
  {
   "cell_type": "code",
   "execution_count": null,
   "metadata": {},
   "outputs": [],
   "source": [
    "list = [2, 7, 5, 7, 9]\n",
    "n = 0\n",
    "x = len(list)\n",
    "while n < x:\n",
    "    print(list[n])\n",
    "    n = n "
   ]
  },
  {
   "cell_type": "markdown",
   "metadata": {},
   "source": [
    "Program to print a square by taking user input:(Eg: if input = 2, then 2 rows and 2 columns):"
   ]
  },
  {
   "cell_type": "code",
   "execution_count": 1,
   "metadata": {},
   "outputs": [
    {
     "name": "stdout",
     "output_type": "stream",
     "text": [
      "enter a positive integer ::2\n",
      "**\n",
      "**\n"
     ]
    }
   ],
   "source": [
    "a = int(input(\"enter a positive integer ::\"))\n",
    "if (a <= 0):\n",
    "    raise NotPositiveError\n",
    "else:\n",
    "    for x in range(0,a):\n",
    "        print('*' * a) "
   ]
  },
  {
   "cell_type": "markdown",
   "metadata": {},
   "source": [
    "Simple Calculator Program:"
   ]
  },
  {
   "cell_type": "code",
   "execution_count": 1,
   "metadata": {},
   "outputs": [],
   "source": [
    "def cal():\n",
    "    operation = input('enter operator :')\n",
    "    # for add = + ,sub = _ ,mult = *, div - /\n",
    "    a = int(input(\"enter first number\"))\n",
    "    b = int(input(\"enter second number\"))\n",
    "    \n",
    "    if operation == '+':\n",
    "        print('{} + {} = '.format(a, b))\n",
    "        print(a + b)\n",
    "        \n",
    "    elif operation == '-':\n",
    "        print('{} - {} = '.format(a, b))\n",
    "        print(a - b)\n",
    "    \n",
    "    elif operation == '*':\n",
    "        print('{} * {} = '.format(a, b))\n",
    "        print(a * b)\n",
    "        \n",
    "    elif operation == '/':\n",
    "        print('{} / {} = '.format(a, b))\n",
    "        print(a / b)\n",
    "    \n",
    "    else:\n",
    "        print(\"enter the above mentioned operators\")"
   ]
  },
  {
   "cell_type": "code",
   "execution_count": 3,
   "metadata": {},
   "outputs": [
    {
     "name": "stdout",
     "output_type": "stream",
     "text": [
      "enter operator :/\n",
      "enter first number8\n",
      "enter second number5\n",
      "8 / 5 = \n",
      "1.6\n"
     ]
    }
   ],
   "source": [
    "b = cal()"
   ]
  },
  {
   "cell_type": "markdown",
   "metadata": {},
   "source": [
    "Program to Guess the Random Number.If the random number is higher than the guessed number,then print too high or else too low.User will get 3 chances to get the random number:"
   ]
  },
  {
   "cell_type": "code",
   "execution_count": 20,
   "metadata": {},
   "outputs": [],
   "source": [
    "import random"
   ]
  },
  {
   "cell_type": "code",
   "execution_count": 21,
   "metadata": {},
   "outputs": [
    {
     "name": "stdout",
     "output_type": "stream",
     "text": [
      "Guess the random number : 45\n",
      "too high\n",
      "Guess the random number : 9\n",
      "too high\n",
      "Guess the random number : 0\n",
      "too high\n"
     ]
    }
   ],
   "source": [
    "a = random.randint(0,100)\n",
    "for i in range(0,3):\n",
    "    b = int(input(\"Guess the random number : \"))\n",
    "    if (a > b):\n",
    "        print(\"too high\")\n",
    "    elif (a < b):\n",
    "        print(\"too low\")\n",
    "    else:\n",
    "        print(a)\n",
    "        print(\"You have guessed the number right\")"
   ]
  },
  {
   "cell_type": "code",
   "execution_count": null,
   "metadata": {},
   "outputs": [],
   "source": []
  }
 ],
 "metadata": {
  "kernelspec": {
   "display_name": "Python 3",
   "language": "python",
   "name": "python3"
  }
 },
 "nbformat": 4,
 "nbformat_minor": 4
}
